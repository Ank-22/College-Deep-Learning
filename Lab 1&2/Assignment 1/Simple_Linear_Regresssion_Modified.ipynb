{
  "nbformat": 4,
  "nbformat_minor": 0,
  "metadata": {
    "kernelspec": {
      "display_name": "Python 3",
      "language": "python",
      "name": "python3"
    },
    "language_info": {
      "codemirror_mode": {
        "name": "ipython",
        "version": 3
      },
      "file_extension": ".py",
      "mimetype": "text/x-python",
      "name": "python",
      "nbconvert_exporter": "python",
      "pygments_lexer": "ipython3",
      "version": "3.8.2"
    },
    "colab": {
      "name": "Simple Linear Regresssion-Modified.ipynb",
      "provenance": []
    }
  },
  "cells": [
    {
      "cell_type": "code",
      "metadata": {
        "id": "5V7v_az8ZFiI",
        "colab_type": "code",
        "colab": {}
      },
      "source": [
        "import pandas as pd\n",
        "import numpy as np\n",
        "import matplotlib.pyplot as plt"
      ],
      "execution_count": null,
      "outputs": []
    },
    {
      "cell_type": "code",
      "metadata": {
        "id": "sfQw0Rk-ZFiZ",
        "colab_type": "code",
        "colab": {}
      },
      "source": [
        "data=pd.read_csv('dataset.csv')"
      ],
      "execution_count": null,
      "outputs": []
    },
    {
      "cell_type": "code",
      "metadata": {
        "id": "vfZO_n7MZFig",
        "colab_type": "code",
        "colab": {}
      },
      "source": [
        ""
      ],
      "execution_count": null,
      "outputs": []
    },
    {
      "cell_type": "code",
      "metadata": {
        "id": "hLfhsRD1ZFil",
        "colab_type": "code",
        "colab": {},
        "outputId": "d1b2055a-c302-4bb0-f2b6-db0c80252947"
      },
      "source": [
        "indices=np.random.choice(range(237),len(data)*80//100,replace=False)\n",
        "indices"
      ],
      "execution_count": null,
      "outputs": [
        {
          "output_type": "execute_result",
          "data": {
            "text/plain": [
              "array([ 97, 192,   4, 230, 214, 158, 122,  73, 136,  10, 108, 193,  52,\n",
              "       215, 176,  50, 113,   9,  63,  17,   5,  99,  85, 174,  39, 148,\n",
              "       128,  18, 144, 236,  57, 127, 162, 152,  28,  46,  65, 125,  15,\n",
              "        37,   8, 229, 147,  95,  96, 202, 199, 171,  61,  58,  60, 223,\n",
              "       186, 159, 129, 210,  51, 170, 153, 112, 124,  62, 137,  32,  47,\n",
              "         0, 166, 185, 189,  69, 175, 140, 213, 156, 178, 134, 105, 103,\n",
              "       203, 135, 201, 212,  16, 198, 117,  30, 121,  71,  48, 196,  91,\n",
              "       155, 101, 106, 114,  86,  76, 163, 150, 188, 145,  38, 133, 228,\n",
              "        77,  21,  84,  72, 107, 208,  31, 233, 111,  68, 222, 172, 234,\n",
              "         1, 180, 146,  82, 216,  88, 141, 102,  90,  22, 182,  56, 207,\n",
              "       104,  24, 157,  74, 109,   2, 211, 139, 190,  34, 160,  42, 195,\n",
              "       183, 204,  70,  11, 164,  93, 130,  19, 225, 119, 200,  12,  55,\n",
              "        87, 161, 154, 177,  89,  83, 227, 181,  26, 131,   6, 209,  29,\n",
              "       206,  81,  49,  66, 123,  41, 197, 232,  36, 138, 231,  45, 179,\n",
              "        44,  92,   3, 110, 187,  35,  54])"
            ]
          },
          "metadata": {
            "tags": []
          },
          "execution_count": 3
        }
      ]
    },
    {
      "cell_type": "code",
      "metadata": {
        "id": "IDjHnbfOZFi0",
        "colab_type": "code",
        "colab": {}
      },
      "source": [
        "x_train=data.iloc[indices,-2]\n",
        "y_train=data.iloc[indices,-1]\n",
        "train=[]\n",
        "for i in range(len(data)*80//100):\n",
        "    if(i not in indices):\n",
        "        train.append(i)\n",
        "x_test=data.iloc[train,-2]\n",
        "y_test=data.iloc[train,-1]"
      ],
      "execution_count": null,
      "outputs": []
    },
    {
      "cell_type": "code",
      "metadata": {
        "id": "DkG-yxs9ZFi3",
        "colab_type": "code",
        "colab": {}
      },
      "source": [
        "#######TO NORMALIZE THE DATA SET VIA MATHEMATICAL WAY\n",
        "def normalize(var):\n",
        "    top=max(var)\n",
        "    bot=min(var)\n",
        "    slope=1/(top-bot)\n",
        "    inter=1-(slope*top)\n",
        "    new=var*slope+intercept\n",
        "    \n",
        "from sklearn.preprocessing import MinMaxScaler"
      ],
      "execution_count": null,
      "outputs": []
    },
    {
      "cell_type": "code",
      "metadata": {
        "id": "_dq90j6EZFi6",
        "colab_type": "code",
        "colab": {}
      },
      "source": [
        "train_scaler=MinMaxScaler()"
      ],
      "execution_count": null,
      "outputs": []
    },
    {
      "cell_type": "code",
      "metadata": {
        "id": "SumB1V47ZFi8",
        "colab_type": "code",
        "colab": {}
      },
      "source": [
        "x_train=train_scaler.fit_transform(x_train.values.reshape(-1,1))"
      ],
      "execution_count": null,
      "outputs": []
    },
    {
      "cell_type": "code",
      "metadata": {
        "id": "wtriO00_ZFi_",
        "colab_type": "code",
        "colab": {}
      },
      "source": [
        "y_train=train_scaler.fit_transform(y_train.values.reshape(-1,1))"
      ],
      "execution_count": null,
      "outputs": []
    },
    {
      "cell_type": "code",
      "metadata": {
        "id": "EaYXCKlgZFjB",
        "colab_type": "code",
        "colab": {}
      },
      "source": [
        "test_scaler=MinMaxScaler()"
      ],
      "execution_count": null,
      "outputs": []
    },
    {
      "cell_type": "code",
      "metadata": {
        "id": "wWItnTU8ZFjD",
        "colab_type": "code",
        "colab": {}
      },
      "source": [
        "x_test=test_scaler.fit_transform(x_test.values.reshape(-1,1))"
      ],
      "execution_count": null,
      "outputs": []
    },
    {
      "cell_type": "code",
      "metadata": {
        "id": "ROwVlK4hZFjF",
        "colab_type": "code",
        "colab": {}
      },
      "source": [
        "y_test=test_scaler.fit_transform(y_test.values.reshape(-1,1))"
      ],
      "execution_count": null,
      "outputs": []
    },
    {
      "cell_type": "code",
      "metadata": {
        "id": "pt9uR41uZFjH",
        "colab_type": "code",
        "colab": {}
      },
      "source": [
        "#x_train=np.array(x_train)"
      ],
      "execution_count": null,
      "outputs": []
    },
    {
      "cell_type": "code",
      "metadata": {
        "id": "Yn_uv2xfZFjJ",
        "colab_type": "code",
        "colab": {}
      },
      "source": [
        "x_train=np.concatenate((np.ones((len(x_train),1)),x_train),axis=1)\n",
        "x_test=np.concatenate((np.ones((len(x_test),1)),x_test),axis=1)"
      ],
      "execution_count": null,
      "outputs": []
    },
    {
      "cell_type": "code",
      "metadata": {
        "id": "p67peAeOZFjL",
        "colab_type": "code",
        "colab": {}
      },
      "source": [
        "x_train=x_train.reshape(x_train.shape[1],x_train.shape[0])\n",
        "x_test=x_test.reshape(x_test.shape[1],x_test.shape[0])"
      ],
      "execution_count": null,
      "outputs": []
    },
    {
      "cell_type": "code",
      "metadata": {
        "id": "SHNsYNWcZFjN",
        "colab_type": "code",
        "colab": {},
        "outputId": "5699e74b-3caf-4b17-ac67-e9f1ee9a7242"
      },
      "source": [
        "x_train.shape"
      ],
      "execution_count": null,
      "outputs": [
        {
          "output_type": "execute_result",
          "data": {
            "text/plain": [
              "(2, 189)"
            ]
          },
          "metadata": {
            "tags": []
          },
          "execution_count": 15
        }
      ]
    },
    {
      "cell_type": "code",
      "metadata": {
        "id": "sMhQbu4vZFjO",
        "colab_type": "code",
        "colab": {}
      },
      "source": [
        "#x_train=x_train.reshape(2,int(len(x_train)/2))\n",
        "#x_test=x_test.reshape(2,int(len(x_test)/2))\n",
        "y_train=y_train.reshape(1,-1)"
      ],
      "execution_count": null,
      "outputs": []
    },
    {
      "cell_type": "code",
      "metadata": {
        "id": "1cnQ7U5fZFjQ",
        "colab_type": "code",
        "colab": {}
      },
      "source": [
        "slope=(y_train[0,1]-y_train[0,0])/(x_train[1,1]-x_train[1,0])\n",
        "#slope=1\n",
        "intercept=y_train[0,1]-x_train[1,1]*slope\n",
        "#intercept=0"
      ],
      "execution_count": null,
      "outputs": []
    },
    {
      "cell_type": "code",
      "metadata": {
        "id": "lAUxf3X-ZFjS",
        "colab_type": "code",
        "colab": {}
      },
      "source": [
        "theta=np.array([intercept,slope]).reshape(1,2)"
      ],
      "execution_count": null,
      "outputs": []
    },
    {
      "cell_type": "code",
      "metadata": {
        "id": "MCgbpxlPZFjU",
        "colab_type": "code",
        "colab": {},
        "outputId": "b1df9936-43f4-468d-d4af-0b745df7e496"
      },
      "source": [
        "theta"
      ],
      "execution_count": null,
      "outputs": [
        {
          "output_type": "execute_result",
          "data": {
            "text/plain": [
              "array([[ 0.29031611, -0.0917867 ]])"
            ]
          },
          "metadata": {
            "tags": []
          },
          "execution_count": 19
        }
      ]
    },
    {
      "cell_type": "code",
      "metadata": {
        "id": "FSMuSN_qZFjW",
        "colab_type": "code",
        "colab": {}
      },
      "source": [
        "J=np.sum(np.subtract(theta.dot(x_train),y_train)**2)/2/len(x_train)\n",
        "J_prev=J\n",
        "alpha=0.001"
      ],
      "execution_count": null,
      "outputs": []
    },
    {
      "cell_type": "code",
      "metadata": {
        "id": "ws3xJJwYZFjY",
        "colab_type": "code",
        "colab": {},
        "outputId": "d5dcd963-2cae-4e5e-cbbf-f7c09204f899"
      },
      "source": [
        "J"
      ],
      "execution_count": null,
      "outputs": [
        {
          "output_type": "execute_result",
          "data": {
            "text/plain": [
              "7.279497110846855"
            ]
          },
          "metadata": {
            "tags": []
          },
          "execution_count": 22
        }
      ]
    },
    {
      "cell_type": "code",
      "metadata": {
        "id": "VFOL4nbGZFjZ",
        "colab_type": "code",
        "colab": {},
        "outputId": "0f9ea4b4-3ba6-4398-a289-f47d46ec2133"
      },
      "source": [
        "while True:\n",
        "    theta=np.subtract(theta,alpha*np.sum(x_train.dot(np.subtract(theta.dot(x_train),y_train).transpose()))/len(x_train))\n",
        "    print(theta)\n",
        "    J=np.sum(np.subtract(theta.dot(x_train),y_train)**2)/2/len(x_train)\n",
        "    print(J)\n",
        "    if(J>=J_prev):\n",
        "        break\n",
        "    J_prev=J"
      ],
      "execution_count": null,
      "outputs": [
        {
          "output_type": "stream",
          "text": [
            "[[ 0.3368     -0.04530281]]\n",
            "5.338042070412424\n",
            "[[ 0.37384849 -0.00825432]]\n",
            "4.104757275281676\n",
            "[[0.4033768  0.02127398]]\n",
            "3.3213286847538495\n",
            "[[0.42691138 0.04480857]]\n",
            "2.8236655668108854\n",
            "[[0.44566886 0.06356605]]\n",
            "2.5075313562967554\n",
            "[[0.46061891 0.0785161 ]]\n",
            "2.306711091635619\n",
            "[[0.47253437 0.09043155]]\n",
            "2.1791425547380086\n",
            "[[0.48203119 0.09992838]]\n",
            "2.098106252780846\n",
            "[[0.48960034 0.10749752]]\n",
            "2.0466289653979617\n",
            "[[0.49563308 0.11353027]]\n",
            "2.013928668712399\n",
            "[[0.50044128 0.11833847]]\n",
            "1.9931562182262192\n",
            "[[0.5042735  0.12217069]]\n",
            "1.9799607813973137\n",
            "[[0.50732785 0.12522504]]\n",
            "1.9715785468014742\n",
            "[[0.50976222 0.12765941]]\n",
            "1.966253838136598\n",
            "[[0.51170246 0.12959965]]\n",
            "1.9628713842048178\n",
            "[[0.51324886 0.13114605]]\n",
            "1.9607227230628312\n",
            "[[0.51448137 0.13237856]]\n",
            "1.959357813208567\n",
            "[[0.51546371 0.13336089]]\n",
            "1.958490771461563\n",
            "[[0.51624664 0.13414383]]\n",
            "1.9579399941419473\n",
            "[[0.51687066 0.13476785]]\n",
            "1.957590119805619\n",
            "[[0.51736801 0.1352652 ]]\n",
            "1.9573678665521497\n",
            "[[0.51776441 0.13566159]]\n",
            "1.9572266829797962\n",
            "[[0.51808034 0.13597753]]\n",
            "1.9571369978985147\n",
            "[[0.51833215 0.13622934]]\n",
            "1.9570800265832942\n",
            "[[0.51853284 0.13643003]]\n",
            "1.9570438362748113\n",
            "[[0.5186928  0.13658999]]\n",
            "1.957020846838407\n",
            "[[0.51882029 0.13671748]]\n",
            "1.957006243089273\n",
            "[[0.5189219  0.13681909]]\n",
            "1.956996966242071\n",
            "[[0.51900288 0.13690007]]\n",
            "1.956991073242047\n",
            "[[0.51906743 0.13696462]]\n",
            "1.9569873297882059\n",
            "[[0.51911888 0.13701606]]\n",
            "1.956984951806431\n",
            "[[0.51915988 0.13705707]]\n",
            "1.9569834412235405\n",
            "[[0.51919256 0.13708975]]\n",
            "1.9569824816448373\n",
            "[[0.5192186  0.13711579]]\n",
            "1.956981872084585\n",
            "[[0.51923936 0.13713655]]\n",
            "1.9569814848691327\n",
            "[[0.51925591 0.1371531 ]]\n",
            "1.9569812388954073\n",
            "[[0.5192691  0.13716628]]\n",
            "1.9569810826437046\n",
            "[[0.51927961 0.1371768 ]]\n",
            "1.956980983386784\n",
            "[[0.51928798 0.13718517]]\n",
            "1.9569809203350788\n",
            "[[0.51929466 0.13719185]]\n",
            "1.9569808802822788\n",
            "[[0.51929998 0.13719717]]\n",
            "1.9569808548392433\n",
            "[[0.51930422 0.13720141]]\n",
            "1.9569808386768772\n",
            "[[0.5193076  0.13720479]]\n",
            "1.956980828409938\n",
            "[[0.5193103  0.13720749]]\n",
            "1.9569808218879945\n",
            "[[0.51931244 0.13720963]]\n",
            "1.956980817745012\n",
            "[[0.51931416 0.13721134]]\n",
            "1.9569808151132349\n",
            "[[0.51931552 0.13721271]]\n",
            "1.9569808134414317\n",
            "[[0.51931661 0.1372138 ]]\n",
            "1.9569808123794397\n",
            "[[0.51931747 0.13721466]]\n",
            "1.9569808117048226\n",
            "[[0.51931816 0.13721535]]\n",
            "1.9569808112762808\n",
            "[[0.51931872 0.1372159 ]]\n",
            "1.956980811004055\n",
            "[[0.51931915 0.13721634]]\n",
            "1.956980810831127\n",
            "[[0.5193195  0.13721669]]\n",
            "1.9569808107212765\n",
            "[[0.51931978 0.13721697]]\n",
            "1.9569808106514952\n",
            "[[0.51932    0.13721719]]\n",
            "1.9569808106071678\n",
            "[[0.51932018 0.13721737]]\n",
            "1.9569808105790094\n",
            "[[0.51932032 0.13721751]]\n",
            "1.956980810561122\n",
            "[[0.51932043 0.13721762]]\n",
            "1.956980810549759\n",
            "[[0.51932052 0.13721771]]\n",
            "1.9569808105425412\n",
            "[[0.5193206  0.13721778]]\n",
            "1.9569808105379558\n",
            "[[0.51932065 0.13721784]]\n",
            "1.9569808105350432\n",
            "[[0.5193207  0.13721789]]\n",
            "1.9569808105331934\n",
            "[[0.51932073 0.13721792]]\n",
            "1.9569808105320177\n",
            "[[0.51932076 0.13721795]]\n",
            "1.956980810531271\n",
            "[[0.51932079 0.13721797]]\n",
            "1.9569808105307966\n",
            "[[0.5193208  0.13721799]]\n",
            "1.9569808105304956\n",
            "[[0.51932082 0.13721801]]\n",
            "1.956980810530304\n",
            "[[0.51932083 0.13721802]]\n",
            "1.9569808105301827\n",
            "[[0.51932084 0.13721803]]\n",
            "1.9569808105301054\n",
            "[[0.51932085 0.13721804]]\n",
            "1.956980810530056\n",
            "[[0.51932085 0.13721804]]\n",
            "1.9569808105300253\n",
            "[[0.51932086 0.13721805]]\n",
            "1.9569808105300053\n",
            "[[0.51932086 0.13721805]]\n",
            "1.9569808105299926\n",
            "[[0.51932086 0.13721805]]\n",
            "1.9569808105299846\n",
            "[[0.51932087 0.13721806]]\n",
            "1.956980810529979\n",
            "[[0.51932087 0.13721806]]\n",
            "1.9569808105299764\n",
            "[[0.51932087 0.13721806]]\n",
            "1.9569808105299744\n",
            "[[0.51932087 0.13721806]]\n",
            "1.9569808105299729\n",
            "[[0.51932087 0.13721806]]\n",
            "1.956980810529972\n",
            "[[0.51932087 0.13721806]]\n",
            "1.956980810529971\n",
            "[[0.51932087 0.13721806]]\n",
            "1.9569808105299709\n",
            "[[0.51932087 0.13721806]]\n",
            "1.9569808105299706\n",
            "[[0.51932087 0.13721806]]\n",
            "1.9569808105299704\n",
            "[[0.51932088 0.13721806]]\n",
            "1.95698081052997\n",
            "[[0.51932088 0.13721806]]\n",
            "1.95698081052997\n"
          ],
          "name": "stdout"
        }
      ]
    },
    {
      "cell_type": "code",
      "metadata": {
        "id": "GUDplpCVZFjb",
        "colab_type": "code",
        "colab": {},
        "outputId": "1a2ac69e-1116-4869-817d-6a84958ebb7a"
      },
      "source": [
        "theta"
      ],
      "execution_count": null,
      "outputs": [
        {
          "output_type": "execute_result",
          "data": {
            "text/plain": [
              "array([[0.51932088, 0.13721806]])"
            ]
          },
          "metadata": {
            "tags": []
          },
          "execution_count": 24
        }
      ]
    },
    {
      "cell_type": "code",
      "metadata": {
        "id": "YNhIqLUoZFjd",
        "colab_type": "code",
        "colab": {},
        "outputId": "3d549df4-80a9-496d-bf0d-12ead97e76ba"
      },
      "source": [
        "plt.scatter(theta.dot(x_test).reshape(-1,1),y_test,color='b')\n",
        "plt.plot([0,1],[0,1])\n",
        "plt.show()"
      ],
      "execution_count": null,
      "outputs": [
        {
          "output_type": "display_data",
          "data": {
            "image/png": "[encoded data removed]",
            "text/plain": [
              "<Figure size 432x288 with 1 Axes>"
            ]
          },
          "metadata": {
            "tags": [],
            "needs_background": "light"
          }
        }
      ]
    },
    {
      "cell_type": "code",
      "metadata": {
        "id": "GYkTNZxfZFjf",
        "colab_type": "code",
        "colab": {}
      },
      "source": [
        ""
      ],
      "execution_count": null,
      "outputs": []
    }
  ]
}